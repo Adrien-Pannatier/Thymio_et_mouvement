{
 "cells": [
  {
   "cell_type": "code",
   "execution_count": 2,
   "metadata": {},
   "outputs": [],
   "source": [
    "import cv2\n",
    "import cv2.aruco as aruco\n",
    "import numpy as np"
   ]
  },
  {
   "cell_type": "markdown",
   "metadata": {},
   "source": [
    "## camera calibration"
   ]
  },
  {
   "cell_type": "code",
   "execution_count": 3,
   "metadata": {},
   "outputs": [],
   "source": [
    "camera_matrix = np.array([[1400, 0, 960],\n",
    "                          [0, 1400, 540],\n",
    "                          [0, 0, 1]], dtype=\"double\")\n",
    "dist_coeffs = np.zeros((4, 1))  # Assuming no distortion"
   ]
  },
  {
   "cell_type": "code",
   "execution_count": 56,
   "metadata": {},
   "outputs": [],
   "source": [
    "import cv2\n",
    "import numpy as np\n",
    "\n",
    "def track_aruco_marker(video_path, marker_size=7):\n",
    "    cap = cv2.VideoCapture(video_path)\n",
    "\n",
    "    # Load the ArUco dictionary and parameters\n",
    "    aruco_dict = cv2.aruco.Dictionary_get(cv2.aruco.DICT_7X7_250)\n",
    "    parameters = cv2.aruco.DetectorParameters_create()\n",
    "\n",
    "    # Create a video writer to save the output video\n",
    "    frame_width = int(cap.get(3))\n",
    "    frame_height = int(cap.get(4))\n",
    "    out = cv2.VideoWriter('output.avi', cv2.VideoWriter_fourcc('M', 'J', 'P', 'G'), 10, (frame_width, frame_height))\n",
    "\n",
    "    # Lists to store the marker positions for plotting trajectory\n",
    "    trajectory = []\n",
    "    times = []\n",
    "\n",
    "    # Flag to check if the reference point is set\n",
    "    reference_set = False\n",
    "    reference_point = None\n",
    "\n",
    "    while True:\n",
    "        ret, frame = cap.read()\n",
    "        if not ret:\n",
    "            break\n",
    "\n",
    "        # Convert the frame to grayscale for marker detection\n",
    "        gray = cv2.cvtColor(frame, cv2.COLOR_BGR2GRAY)\n",
    "\n",
    "        # Detect markers in the frame\n",
    "        corners, ids, _ = aruco.detectMarkers(gray, aruco_dict, parameters=parameters)\n",
    "\n",
    "        if ids is not None:\n",
    "            # Draw the detected markers\n",
    "            aruco.drawDetectedMarkers(frame, corners, ids)\n",
    "\n",
    "            # Estimate the pose of the marker\n",
    "            rvecs, tvecs, _ = aruco.estimatePoseSingleMarkers(corners, marker_size, camera_matrix, dist_coeffs)\n",
    "\n",
    "            # Draw the axes of the marker\n",
    "            for i in range(len(ids)):\n",
    "                cv2.drawFrameAxes(frame, camera_matrix, dist_coeffs, rvecs[i], tvecs[i], marker_size)\n",
    "\n",
    "                # Save the marker position for trajectory plotting\n",
    "                if not reference_set:\n",
    "                    reference_point = tvecs[i][0]\n",
    "                    reference_set = True\n",
    "\n",
    "                trajectory.append(tvecs[i][0] - reference_point)\n",
    "\n",
    "                times.append(cap.get(cv2.CAP_PROP_POS_MSEC))\n",
    "\n",
    "        # Write the frame with markers drawn to the output video\n",
    "        out.write(frame)\n",
    "\n",
    "        # Display the frame with markers\n",
    "        cv2.imshow('Frame', frame)\n",
    "\n",
    "        # Break the loop when 'q' key is pressed\n",
    "        if cv2.waitKey(1) & 0xFF == ord('q'):\n",
    "            break\n",
    "\n",
    "    # Release video capture and writer objects\n",
    "    cap.release()\n",
    "    out.release()\n",
    "\n",
    "    # Close all OpenCV windows\n",
    "    cv2.destroyAllWindows()\n",
    "\n",
    "    return np.array(trajectory), np.array(times)\n"
   ]
  },
  {
   "cell_type": "code",
   "execution_count": 5,
   "metadata": {},
   "outputs": [],
   "source": [
    "\n",
    "def display_trajectory_on_frame(video_path, marker_trajectory, output_image_path, frame_in=10, scale_factor=1, x_offset=0, y_offset=0, color = (0, 0, 255)):\n",
    "    cap = cv2.VideoCapture(video_path)\n",
    "\n",
    "    # Get the total number of frames in the video\n",
    "    total_frames = int(cap.get(cv2.CAP_PROP_FRAME_COUNT))\n",
    "\n",
    "    # Read the middle frame\n",
    "    if frame_in == \"mid\":\n",
    "        frame_index = total_frames // 2\n",
    "    else:\n",
    "        frame_index = frame_in\n",
    "\n",
    "\n",
    "    cap.set(cv2.CAP_PROP_POS_FRAMES, frame_index)\n",
    "    ret, frame = cap.read()\n",
    "\n",
    "    # Get the frame dimensions\n",
    "    frame_width = int(cap.get(3))\n",
    "    frame_height = int(cap.get(4))\n",
    "\n",
    "    # Create a blank image for drawing the trajectory\n",
    "    trajectory_image = np.zeros_like(frame)\n",
    "\n",
    "    counter = 0\n",
    "\n",
    "    # Draw the trajectory on the blank image\n",
    "    for point in marker_trajectory:\n",
    "        counter += 1\n",
    "        x, y, _ = map(float, point)\n",
    "\n",
    "        # shift the points to the center of the image\n",
    "        x += (frame_width + x_offset) // (2 * scale_factor)\n",
    "        y += (frame_height + y_offset) // (2 * scale_factor)\n",
    "\n",
    "        # Scale the points based on the specified factor\n",
    "        x = int(x * scale_factor)\n",
    "        y = int(y * scale_factor)\n",
    "\n",
    "        # cv2.circle(trajectory_image, (x, y), 2, (0, 255, 0), -1)\n",
    "\n",
    "        if counter > 10:\n",
    "            # draw a line between points\n",
    "            cv2.line(trajectory_image, (last_x, last_y), (x, y), color, 5)\n",
    "\n",
    "        last_x, last_y = x, y\n",
    "\n",
    "    # Overlay the trajectory image onto the middle frame\n",
    "    result_frame = cv2.addWeighted(frame, 1, trajectory_image, 0.9, 0)\n",
    "\n",
    "    # Save the result frame with the drawn trajectory\n",
    "    cv2.imwrite(output_image_path, result_frame)\n",
    "\n",
    "    # Display the result frame\n",
    "    cv2.imshow('Trajectory on Middle Frame', result_frame)\n",
    "    cv2.waitKey(0)\n",
    "\n",
    "    # Release video capture object\n",
    "    cap.release()\n",
    "\n",
    "    # Close OpenCV windows\n",
    "    cv2.destroyAllWindows()\n",
    "\n"
   ]
  },
  {
   "cell_type": "code",
   "execution_count": 6,
   "metadata": {},
   "outputs": [],
   "source": [
    "\n",
    "\n",
    "def display_2_trajectories_on_frame(video_path, marker_trajectory_1, marker_trajectory_2, output_image_path, frame_in=10, scale_factor=1, x_offset=0, y_offset=0):\n",
    "    cap = cv2.VideoCapture(video_path)\n",
    "\n",
    "    # Get the total number of frames in the video\n",
    "    total_frames = int(cap.get(cv2.CAP_PROP_FRAME_COUNT))\n",
    "\n",
    "    # Read the middle frame\n",
    "    if frame_in == \"mid\":\n",
    "        frame_index = total_frames // 2\n",
    "    else:\n",
    "        frame_index = frame_in\n",
    "\n",
    "\n",
    "    cap.set(cv2.CAP_PROP_POS_FRAMES, frame_index)\n",
    "    ret, frame = cap.read()\n",
    "\n",
    "    # Get the frame dimensions\n",
    "    frame_width = int(cap.get(3))\n",
    "    frame_height = int(cap.get(4))\n",
    "\n",
    "    # Create a blank image for drawing the trajectory\n",
    "    trajectory_image = np.zeros_like(frame)\n",
    "\n",
    "    counter = 0\n",
    "\n",
    "    # Draw the trajectory on the blank image\n",
    "    for point in marker_trajectory_1:\n",
    "        counter += 1\n",
    "        x, y, _ = map(float, point)\n",
    "\n",
    "        # shift the points to the center of the image\n",
    "        x += (frame_width + x_offset) // (2 * scale_factor)\n",
    "        y += (frame_height + y_offset) // (2 * scale_factor)\n",
    "\n",
    "        # Scale the points based on the specified factor\n",
    "        x = int(x * scale_factor)\n",
    "        y = int(y * scale_factor)\n",
    "\n",
    "        # cv2.circle(trajectory_image, (x, y), 2, (0, 255, 0), -1)\n",
    "\n",
    "        if counter > 10:\n",
    "            # draw a line between points\n",
    "            cv2.line(trajectory_image, (last_x, last_y), (x, y), (0,0,250), 5)\n",
    "\n",
    "        last_x, last_y = x, y\n",
    "\n",
    "    counter = 0\n",
    "\n",
    "    # Draw the trajectory on the blank image\n",
    "    for point in marker_trajectory_2:\n",
    "        counter += 1\n",
    "        x, y, _ = map(float, point)\n",
    "\n",
    "        # shift the points to the center of the image\n",
    "        x += (frame_width + x_offset) // (2 * scale_factor)\n",
    "        y += (frame_height + y_offset) // (2 * scale_factor)\n",
    "\n",
    "        # Scale the points based on the specified factor\n",
    "        x = int(x * scale_factor)\n",
    "        y = int(y * scale_factor)\n",
    "\n",
    "        # cv2.circle(trajectory_image, (x, y), 2, (0, 255, 0), -1)\n",
    "\n",
    "        if counter > 10:\n",
    "            # draw a line between points\n",
    "            cv2.line(trajectory_image, (last_x, last_y), (x, y), (0, 250, 0), 5)\n",
    "\n",
    "        last_x, last_y = x, y\n",
    "    # Overlay the trajectory image onto the middle frame\n",
    "    result_frame = cv2.addWeighted(frame, 1, trajectory_image, 0.9, 0)\n",
    "\n",
    "    # Save the result frame with the drawn trajectory\n",
    "    cv2.imwrite(output_image_path, result_frame)\n",
    "\n",
    "    # Display the result frame\n",
    "    cv2.imshow('Trajectory on Middle Frame', result_frame)\n",
    "    cv2.waitKey(0)\n",
    "\n",
    "    # Release video capture object\n",
    "    cap.release()\n",
    "\n",
    "    # Close OpenCV windows\n",
    "    cv2.destroyAllWindows()\n",
    "\n"
   ]
  },
  {
   "cell_type": "markdown",
   "metadata": {},
   "source": [
    "## ANALYSIS"
   ]
  },
  {
   "cell_type": "markdown",
   "metadata": {},
   "source": [
    "### Mimyo"
   ]
  },
  {
   "cell_type": "code",
   "execution_count": 7,
   "metadata": {},
   "outputs": [],
   "source": [
    "# Replace 'path/to/your/video.mp4' with the path to your video file\n",
    "video_path_mimyo = 'C:/Users/adrie/Desktop/PDS_Thymio/001_code/Python/Thymio_et_mouvement/Testing/Mimyo.mp4'"
   ]
  },
  {
   "cell_type": "code",
   "execution_count": 57,
   "metadata": {},
   "outputs": [],
   "source": [
    "# Call the function to track ArUco marker trajectory\n",
    "marker_trajectory_mimyo, times_mimyo = track_aruco_marker(video_path_mimyo)"
   ]
  },
  {
   "cell_type": "code",
   "execution_count": 59,
   "metadata": {},
   "outputs": [
    {
     "name": "stdout",
     "output_type": "stream",
     "text": [
      "(243, 3)\n",
      "(243,)\n",
      "[ 120.  160.  200.  240.  280.  320.  360.  400.  440.  480.  520.  560.\n",
      "  600.  640.  680.  720.  760.  800.  840.  880.  920.  960. 1000. 1040.\n",
      " 1080. 1120. 1160. 1200. 1240. 1280. 1320. 1360. 1400. 1440. 1480. 1520.\n",
      " 1560. 1600. 1640. 1680. 1720. 1760. 1800. 1840. 1880. 1920. 1960. 2000.\n",
      " 2040. 2080. 2120. 2160. 2200. 2240. 2280. 2320. 2360. 2400. 2440. 2480.\n",
      " 2520. 2560. 2600. 2640. 2680. 2720. 2760. 2800. 2840. 2880. 2920. 2960.\n",
      " 3000. 3040. 3080. 3120. 3160. 3200. 3240. 3280. 3320. 3360. 3400. 3440.\n",
      " 3480. 3520. 3560. 3600. 3640. 3680. 3720. 3760. 3800. 3840. 3880. 3920.\n",
      " 3960. 4000. 4040. 4080. 4120. 4160. 4200. 4240. 4280. 4320. 4360. 4400.\n",
      " 4440. 4480. 4520. 4560. 4600. 4640. 4680. 4720. 4760. 4800. 4840. 4880.\n",
      " 4920. 4960. 5000. 5040. 5080. 5120. 5160. 5200. 5240. 5280. 5320. 5360.\n",
      " 5400. 5440. 5480. 5520. 5560. 5600. 5640. 5680. 5720. 5760. 5800. 5840.\n",
      " 5880. 5920. 5960. 6000. 6040. 6080. 6120. 6160. 6200. 6240. 6280. 6320.\n",
      " 6360. 6400. 6440. 6480. 6520. 6560. 6600. 6640. 6680. 6720. 6760. 6800.\n",
      " 6840. 6880. 6920. 6960. 7000. 7040. 7080. 7120. 7160. 7200. 7240. 7280.\n",
      " 7320. 7360. 7400. 7440. 7480. 7520. 7560. 7600. 7640. 7680. 7720. 7760.\n",
      " 7800. 7840. 7880. 7920. 7960. 8000. 8040. 8080. 8120. 8160. 8200. 8240.\n",
      " 8280. 8320. 8360. 8400. 8440. 8480. 8520. 8560. 8600. 8640. 8680. 8720.\n",
      " 8760. 8800. 8840. 8880. 8920. 8960. 9000. 9040. 9080. 9120. 9160. 9200.\n",
      " 9240. 9280. 9320. 9360. 9400. 9440. 9480. 9520. 9560. 9600.    0.    0.\n",
      "    0.    0.    0.]\n"
     ]
    }
   ],
   "source": [
    "print(np.shape(marker_trajectory_mimyo))\n",
    "print(np.shape(times_mimyo))\n",
    "print(times_mimyo)"
   ]
  },
  {
   "cell_type": "code",
   "execution_count": 9,
   "metadata": {},
   "outputs": [],
   "source": [
    "output_im_path = 'C:/Users/adrie/Desktop/PDS_Thymio/001_code/Python/Thymio_et_mouvement/Testing/Mimyo_trajectory.png'\n",
    "# Call the function to display trajectory on the middle frame\n",
    "display_trajectory_on_frame(video_path_mimyo, marker_trajectory_mimyo, output_im_path, frame_in=\"mid\", scale_factor=14, x_offset=900, y_offset=450)"
   ]
  },
  {
   "cell_type": "markdown",
   "metadata": {},
   "source": [
    "### Thymio "
   ]
  },
  {
   "cell_type": "code",
   "execution_count": 10,
   "metadata": {},
   "outputs": [],
   "source": [
    "# Replace 'path/to/your/video.mp4' with the path to your video file\n",
    "video_path_thymio = 'C:/Users/adrie/Desktop/PDS_Thymio/001_code/Python/Thymio_et_mouvement/Testing/Thymio.mp4'"
   ]
  },
  {
   "cell_type": "code",
   "execution_count": 11,
   "metadata": {},
   "outputs": [],
   "source": [
    "# Call the function to track ArUco marker trajectory\n",
    "marker_trajectory_thymio = track_aruco_marker(video_path_thymio)"
   ]
  },
  {
   "cell_type": "code",
   "execution_count": 12,
   "metadata": {},
   "outputs": [],
   "source": [
    "output_im_path = 'C:/Users/adrie/Desktop/PDS_Thymio/001_code/Python/Thymio_et_mouvement/Testing/Thymio_trajectory.png'\n",
    "# Call the function to display trajectory on the middle frame\n",
    "display_trajectory_on_frame(video_path_thymio, marker_trajectory_thymio, output_im_path, frame_in=\"mid\", scale_factor=14, x_offset=900, y_offset=450, color=(0, 255, 0))"
   ]
  },
  {
   "cell_type": "markdown",
   "metadata": {},
   "source": [
    "### superposition"
   ]
  },
  {
   "cell_type": "code",
   "execution_count": 13,
   "metadata": {},
   "outputs": [],
   "source": [
    "# Replace 'path/to/your/video.mp4' with the path to your video file\n",
    "video_path_thymio = 'C:/Users/adrie/Desktop/PDS_Thymio/001_code/Python/Thymio_et_mouvement/Testing/Both.mp4'"
   ]
  },
  {
   "cell_type": "code",
   "execution_count": 14,
   "metadata": {},
   "outputs": [],
   "source": [
    "output_im_path = 'C:/Users/adrie/Desktop/PDS_Thymio/001_code/Python/Thymio_et_mouvement/Testing/Thymio_Mimyo_trajectory.png'\n",
    "# Call the function to display trajectory on the middle frame\n",
    "display_2_trajectories_on_frame(video_path_thymio, marker_trajectory_mimyo, marker_trajectory_thymio, output_im_path, frame_in=\"mid\", scale_factor=14, x_offset=900, y_offset=450)"
   ]
  },
  {
   "cell_type": "markdown",
   "metadata": {},
   "source": [
    "## Compare the two trajectories"
   ]
  },
  {
   "cell_type": "code",
   "execution_count": 39,
   "metadata": {},
   "outputs": [
    {
     "name": "stdout",
     "output_type": "stream",
     "text": [
      "231\n"
     ]
    }
   ],
   "source": [
    "# adjust the lengths of the trajectories\n",
    "if len(marker_trajectory_mimyo) > len(marker_trajectory_thymio):\n",
    "    marker_trajectory_mimyo = marker_trajectory_mimyo[:len(marker_trajectory_thymio)]\n",
    "\n",
    "print(len(marker_trajectory_mimyo))"
   ]
  },
  {
   "cell_type": "code",
   "execution_count": 16,
   "metadata": {},
   "outputs": [],
   "source": [
    "def calculate_trajectory_euclidian_dist(trajectory1, trajectory2):\n",
    "    \"\"\"\n",
    "    Calculate the Euclidean distance between two 2D trajectories.\n",
    "\n",
    "    Parameters:\n",
    "    - trajectory1: numpy array representing the first trajectory (Nx2)\n",
    "    - trajectory2: numpy array representing the second trajectory (Nx2)\n",
    "\n",
    "    Returns:\n",
    "    - error: Euclidean distance between the two trajectories\n",
    "    \"\"\"\n",
    "    if len(trajectory1) != len(trajectory2):\n",
    "        raise ValueError(\"Trajectories must have the same length\")\n",
    "\n",
    "    error = np.linalg.norm(trajectory1 - trajectory2)\n",
    "    return error"
   ]
  },
  {
   "cell_type": "code",
   "execution_count": 17,
   "metadata": {},
   "outputs": [],
   "source": [
    "def calculate_trajectory_error_mse(trajectory1, trajectory2):\n",
    "    \"\"\"\n",
    "    Calculate the Mean Squared Error (MSE) between two 2D trajectories.\n",
    "\n",
    "    Parameters:\n",
    "    - trajectory1: numpy array representing the first trajectory (Nx2)\n",
    "    - trajectory2: numpy array representing the second trajectory (Nx2)\n",
    "\n",
    "    Returns:\n",
    "    - mse: Mean Squared Error between the two trajectories\n",
    "    \"\"\"\n",
    "    if len(trajectory1) != len(trajectory2):\n",
    "        raise ValueError(\"Trajectories must have the same length\")\n",
    "\n",
    "    mse = np.mean(np.square(trajectory1 - trajectory2))\n",
    "    return mse\n"
   ]
  },
  {
   "cell_type": "code",
   "execution_count": 19,
   "metadata": {},
   "outputs": [],
   "source": [
    "from fastdtw import fastdtw\n",
    "\n",
    "def calculate_trajectory_dtw(trajectory1, trajectory2):\n",
    "    \"\"\"\n",
    "    Calculate the Dynamic Time Warping (DTW) distance between two 2D trajectories.\n",
    "\n",
    "    Parameters:\n",
    "    - trajectory1: numpy array representing the first trajectory (Nx2)\n",
    "    - trajectory2: numpy array representing the second trajectory (Nx2)\n",
    "\n",
    "    Returns:\n",
    "    - distance: DTW distance between the two trajectories\n",
    "    - path: DTW path between the two trajectories\n",
    "    \"\"\"\n",
    "    if len(trajectory1) != len(trajectory2):\n",
    "        raise ValueError(\"Trajectories must have the same length\")\n",
    "\n",
    "    distance, path = fastdtw(trajectory1, trajectory2)\n",
    "    error = distance / len(path)\n",
    "\n",
    "    return distance, path, error"
   ]
  },
  {
   "cell_type": "code",
   "execution_count": 43,
   "metadata": {},
   "outputs": [],
   "source": [
    "def normalised_crossed_cor(trajectory1, trajectory2):\n",
    "    \"\"\"\n",
    "    Calculate the Normalized Cross-Correlation between two 2D trajectories.\n",
    "\n",
    "    Parameters:\n",
    "    - trajectory1: numpy array representing the first trajectory (Nx2)\n",
    "    - trajectory2: numpy array representing the second trajectory (Nx2)\n",
    "\n",
    "    Returns:\n",
    "    - normalized_cross_correlation: Normalized Cross-Correlation between the two trajectories\n",
    "    \"\"\"\n",
    "    if len(trajectory1) != len(trajectory2):\n",
    "        raise ValueError(\"Trajectories must have the same length\")\n",
    "\n",
    "    cross_correlation = np.correlate(trajectory1.flatten(), trajectory2.flatten(), mode='full')\n",
    "    normalized_cross_correlation = cross_correlation / (np.linalg.norm(trajectory1) * np.linalg.norm(trajectory2))\n",
    "\n",
    "    return normalized_cross_correlation"
   ]
  },
  {
   "cell_type": "code",
   "execution_count": 66,
   "metadata": {},
   "outputs": [],
   "source": [
    "def plot_normalised_crossed_cor(normalised_crossed_corel):\n",
    "    plt.figure(figsize=(12, 6))\n",
    "    plt.plot(normalised_crossed_corel)\n",
    "    plt.title('Normalized Cross-Correlation between the two trajectories')\n",
    "    plt.xlabel('index Lag')\n",
    "    plt.ylabel('Normalized Cross-Correlation')\n",
    "\n",
    "    # Find the index of the maximum value\n",
    "    max_index = np.argmax(normalised_crossed_corel)\n",
    "\n",
    "    # Get the maximum value\n",
    "    max_value = normalised_crossed_corel[max_index]\n",
    "\n",
    "    # Display the maximum point on the graph\n",
    "    plt.plot(max_index, max_value, 'ro', label='Max Point')\n",
    "    plt.text(max_index, max_value, f'Max Point: ({max_index}, {max_value})', ha='center', va='bottom')\n",
    "\n",
    "    plt.legend()\n",
    "    plt.show()"
   ]
  },
  {
   "cell_type": "code",
   "execution_count": 44,
   "metadata": {},
   "outputs": [
    {
     "name": "stdout",
     "output_type": "stream",
     "text": [
      "Euclidean Distance Error: 117.71783579820085\n"
     ]
    }
   ],
   "source": [
    "# Calculate the error between the two trajectories\n",
    "error = calculate_trajectory_euclidian_dist(marker_trajectory_mimyo, marker_trajectory_thymio)\n",
    "\n",
    "print(\"Euclidean Distance Error:\", error)\n"
   ]
  },
  {
   "cell_type": "code",
   "execution_count": 45,
   "metadata": {},
   "outputs": [
    {
     "name": "stdout",
     "output_type": "stream",
     "text": [
      "Mean Squared Error (MSE): 19.996376428589002\n"
     ]
    }
   ],
   "source": [
    "mse = calculate_trajectory_error_mse(marker_trajectory_mimyo, marker_trajectory_thymio)\n",
    "\n",
    "print(\"Mean Squared Error (MSE):\", mse)"
   ]
  },
  {
   "cell_type": "code",
   "execution_count": 46,
   "metadata": {},
   "outputs": [
    {
     "name": "stdout",
     "output_type": "stream",
     "text": [
      "DTW Distance Error: 2.9468465319001833\n",
      "DTW Distance: [(0, 0), (1, 0), (2, 0), (3, 1), (4, 2), (5, 3), (6, 3), (7, 4), (7, 5), (8, 6), (9, 7), (10, 8), (11, 9), (12, 10), (13, 10), (14, 11), (15, 12), (16, 13), (17, 14), (17, 15), (18, 16), (18, 17), (19, 18), (20, 19), (21, 20), (22, 21), (23, 22), (24, 23), (24, 24), (25, 25), (25, 26), (26, 27), (27, 28), (28, 28), (29, 28), (30, 29), (31, 30), (32, 31), (33, 32), (34, 33), (35, 34), (36, 35), (37, 36), (37, 37), (37, 38), (38, 39), (39, 40), (39, 41), (40, 42), (41, 43), (42, 44), (43, 45), (44, 46), (44, 47), (45, 48), (46, 48), (47, 49), (48, 50), (49, 51), (50, 52), (51, 53), (52, 54), (53, 55), (54, 56), (55, 57), (56, 58), (57, 59), (57, 60), (58, 61), (59, 62), (60, 63), (61, 64), (62, 65), (63, 66), (64, 67), (65, 68), (66, 69), (66, 70), (67, 71), (68, 72), (69, 73), (70, 74), (71, 75), (72, 76), (73, 77), (74, 78), (75, 79), (76, 80), (77, 81), (78, 82), (78, 83), (79, 84), (80, 85), (80, 86), (81, 87), (82, 88), (83, 89), (84, 90), (85, 91), (85, 92), (86, 93), (87, 94), (88, 95), (89, 96), (90, 97), (91, 98), (92, 99), (92, 100), (92, 101), (93, 102), (94, 103), (95, 104), (96, 105), (97, 106), (97, 107), (97, 108), (98, 109), (99, 110), (100, 111), (100, 112), (101, 113), (102, 114), (103, 115), (103, 116), (104, 117), (105, 118), (106, 119), (107, 120), (107, 121), (108, 122), (109, 123), (109, 124), (110, 125), (111, 126), (112, 127), (113, 128), (114, 129), (115, 130), (116, 131), (117, 132), (118, 133), (119, 134), (120, 135), (121, 136), (122, 137), (123, 138), (124, 139), (125, 140), (126, 141), (127, 142), (128, 143), (129, 144), (130, 145), (131, 146), (132, 147), (133, 148), (134, 149), (135, 150), (136, 151), (137, 152), (138, 153), (139, 154), (140, 155), (140, 156), (140, 157), (140, 158), (141, 159), (142, 160), (143, 161), (144, 162), (144, 163), (145, 164), (145, 165), (146, 166), (147, 167), (148, 168), (149, 169), (150, 170), (151, 171), (152, 172), (152, 173), (153, 174), (154, 175), (155, 176), (155, 177), (155, 178), (156, 179), (157, 180), (158, 181), (158, 182), (158, 183), (158, 184), (159, 185), (160, 186), (161, 187), (162, 188), (163, 189), (163, 190), (164, 191), (165, 192), (166, 193), (167, 194), (167, 195), (168, 196), (169, 197), (170, 198), (171, 199), (171, 200), (172, 201), (173, 202), (173, 203), (174, 204), (175, 205), (176, 206), (176, 207), (177, 208), (178, 209), (179, 210), (179, 211), (180, 212), (181, 213), (182, 214), (183, 215), (184, 216), (185, 217), (186, 218), (187, 219), (188, 220), (189, 221), (190, 222), (191, 223), (192, 224), (193, 225), (194, 226), (195, 227), (196, 227), (197, 228), (198, 229), (199, 230), (200, 230), (201, 230), (202, 230), (203, 230), (204, 230), (205, 230), (206, 230), (207, 230), (208, 230), (209, 230), (210, 230), (211, 230), (212, 230), (213, 230), (214, 230), (215, 230), (216, 230), (217, 230), (218, 230), (219, 230), (220, 230), (221, 230), (222, 230), (223, 230), (224, 230), (225, 230), (226, 230), (227, 230), (228, 230), (229, 230), (230, 230)]\n",
      "DTW Path: 795.6485636130495\n"
     ]
    }
   ],
   "source": [
    "path, distance, error = calculate_trajectory_dtw(marker_trajectory_mimyo, marker_trajectory_thymio)\n",
    "\n",
    "print(\"DTW Distance Error:\", error)\n",
    "print(\"DTW Distance:\", distance)\n",
    "print(\"DTW Path:\", path)"
   ]
  },
  {
   "cell_type": "code",
   "execution_count": 47,
   "metadata": {},
   "outputs": [
    {
     "name": "stdout",
     "output_type": "stream",
     "text": [
      "Normalized Cross-Correlation shape: (1385,)\n",
      "Normalized Cross-Correlation: [0. 0. 0. ... 0. 0. 0.]\n",
      "Maximal value of the Normalized Cross-Correlation: 0.9825856322928189\n"
     ]
    }
   ],
   "source": [
    "normalised_crossed_corel = normalised_crossed_cor(marker_trajectory_mimyo, marker_trajectory_thymio)\n",
    "\n",
    "print(\"Normalized Cross-Correlation shape:\", np.shape(normalised_crossed_corel))\n",
    "\n",
    "print(\"Normalized Cross-Correlation:\", normalised_crossed_corel)\n",
    "\n",
    "# maximal value of the normalized cross-correlation\n",
    "max_value = np.max(normalised_crossed_corel)\n",
    "\n",
    "print(\"Maximal value of the Normalized Cross-Correlation:\", max_value)"
   ]
  },
  {
   "cell_type": "code",
   "execution_count": 67,
   "metadata": {},
   "outputs": [
    {
     "data": {
      "image/png": "[encoded data removed]",
      "text/plain": [
       "<Figure size 1200x600 with 1 Axes>"
      ]
     },
     "metadata": {},
     "output_type": "display_data"
    }
   ],
   "source": [
    "plot_normalised_crossed_cor(normalised_crossed_corel)"
   ]
  }
 ],
 "metadata": {
  "kernelspec": {
   "display_name": "Thymio_env",
   "language": "python",
   "name": "python3"
  },
  "language_info": {
   "codemirror_mode": {
    "name": "ipython",
    "version": 3
   },
   "file_extension": ".py",
   "mimetype": "text/x-python",
   "name": "python",
   "nbconvert_exporter": "python",
   "pygments_lexer": "ipython3",
   "version": "3.12.0"
  }
 },
 "nbformat": 4,
 "nbformat_minor": 2
}
